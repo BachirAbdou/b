{
 "cells": [
  {
   "cell_type": "code",
   "execution_count": 9,
   "metadata": {},
   "outputs": [],
   "source": [
    "import pandas as pd\n",
    "import matplotlib.pyplot as plt\n",
    "import numpy as np"
   ]
  },
  {
   "cell_type": "code",
   "execution_count": 10,
   "metadata": {},
   "outputs": [],
   "source": [
    "df= pd.read_excel(\"../PB/data/Classeur1.xlsx\")"
   ]
  },
  {
   "cell_type": "code",
   "execution_count": 11,
   "metadata": {},
   "outputs": [
    {
     "data": {
      "text/plain": [
       "<bound method NDFrame.head of      Matricule Buchenwald kl         Nom    Prénom Sexe Date de naissance  \\\n",
       "0                       3833      ABOZZI    Joseph    M        16.07.1920   \n",
       "1                     139900   ABRAHAM *     André    M        25.12.1908   \n",
       "2                     139425      ADELLE   Georges    M        05.05.1924   \n",
       "3                      28899     ADRIANT    Alfred    M        11/09/1899   \n",
       "4                      28902     ADRIANT     Louis    M        28.09.1906   \n",
       "...                      ...         ...       ...  ...               ...   \n",
       "1129                   78276  WIRTENSOHN   Charles    M        08.08.1903   \n",
       "1130                       ?        WOLF  François    M        23.05.1920   \n",
       "1131                   40813     WYSOCKI    Thadée    M        23.10.1903   \n",
       "1132                   76482    ZEUTZIUS   Jacques    M        28.09.1921   \n",
       "1133                    7961     ZINZIUS  Philippe    M        23.04.1911   \n",
       "\n",
       "              Lieu de naissance Nationalité Parcours complet Situation  \\\n",
       "0     Roquefort-la-Bedoule (13)           F            We,Bu         D   \n",
       "1                   Fismes (51)           F   Kas, Gux,Bu,Da         R   \n",
       "2        Beaumont-sur-Oise (78)           F               Bu         R   \n",
       "3                   Crevic (54)           F            Bu,Do       DCD   \n",
       "4                   Crevic (54)           F         Fh,Bu,Do         R   \n",
       "...                         ...         ...              ...       ...   \n",
       "1129                  Buhl (68)           F            Dü,Bu       DCD   \n",
       "1130               Gorika (YOU)           F           Dmd,Bu         R   \n",
       "1131             Kruszwica (PL)          PL      FM,Bu,Do,BB         R   \n",
       "1132                 Paris (75)           F      Kö,Bu(Lang)       DCD   \n",
       "1133            Enchenberg (57)           F       Lei,Bu,Flo         R   \n",
       "\n",
       "     Date de libération ou de décès Lieu de libération ou de décès  \n",
       "0                                 ?                              ?  \n",
       "1                        29.04.1945                         Dachau  \n",
       "2                        ??/04/1945                     Bitterfeld  \n",
       "3                        23.03.1944                           Dora  \n",
       "4                        11.04.1945                           Dora  \n",
       "...                             ...                            ...  \n",
       "1129                     22.02.1945                     Buchenwald  \n",
       "1130                              ?                              ?  \n",
       "1131                     15.04.1945                  Bergen-Belsen  \n",
       "1132                              ?                              ?  \n",
       "1133                     23.04.1945                    Flossenbürg  \n",
       "\n",
       "[1134 rows x 11 columns]>"
      ]
     },
     "execution_count": 11,
     "metadata": {},
     "output_type": "execute_result"
    }
   ],
   "source": [
    "df.head"
   ]
  },
  {
   "cell_type": "code",
   "execution_count": 12,
   "metadata": {},
   "outputs": [
    {
     "name": "stdout",
     "output_type": "stream",
     "text": [
      "<class 'pandas.core.frame.DataFrame'>\n",
      "RangeIndex: 1134 entries, 0 to 1133\n",
      "Data columns (total 11 columns):\n",
      " #   Column                          Non-Null Count  Dtype \n",
      "---  ------                          --------------  ----- \n",
      " 0   Matricule Buchenwald kl         1134 non-null   object\n",
      " 1   Nom                             1134 non-null   object\n",
      " 2   Prénom                          1134 non-null   object\n",
      " 3   Sexe                            1134 non-null   object\n",
      " 4   Date de naissance               1134 non-null   object\n",
      " 5   Lieu de naissance               1134 non-null   object\n",
      " 6   Nationalité                     1134 non-null   object\n",
      " 7   Parcours complet                1134 non-null   object\n",
      " 8   Situation                       1134 non-null   object\n",
      " 9   Date de libération ou de décès  1134 non-null   object\n",
      " 10  Lieu de libération ou de décès  1134 non-null   object\n",
      "dtypes: object(11)\n",
      "memory usage: 97.6+ KB\n"
     ]
    }
   ],
   "source": [
    "df.info()"
   ]
  },
  {
   "cell_type": "code",
   "execution_count": 18,
   "metadata": {},
   "outputs": [
    {
     "name": "stdout",
     "output_type": "stream",
     "text": [
      "|    |   Matricule Buchenwald kl | Nom       | Prénom   | Sexe   | Date de naissance   | Lieu de naissance         | Nationalité   | Parcours complet   | Situation   | Date de libération ou de décès   | Lieu de libération ou de décès   |\n",
      "|---:|--------------------------:|:----------|:---------|:-------|:--------------------|:--------------------------|:--------------|:-------------------|:------------|:---------------------------------|:---------------------------------|\n",
      "|  0 |                      3833 | ABOZZI    | Joseph   | M      | 16.07.1920          | Roquefort-la-Bedoule (13) | F             | We,Bu              | D           | ?                                | ?                                |\n",
      "|  1 |                    139900 | ABRAHAM * | André    | M      | 25.12.1908          | Fismes (51)               | F             | Kas, Gux,Bu,Da     | R           | 29.04.1945                       | Dachau                           |\n"
     ]
    }
   ],
   "source": [
    "print(df.head(2).to_markdown())"
   ]
  },
  {
   "cell_type": "code",
   "execution_count": null,
   "metadata": {},
   "outputs": [],
   "source": []
  }
 ],
 "metadata": {
  "kernelspec": {
   "display_name": "Python 3.9.12 ('base')",
   "language": "python",
   "name": "python3"
  },
  "language_info": {
   "codemirror_mode": {
    "name": "ipython",
    "version": 3
   },
   "file_extension": ".py",
   "mimetype": "text/x-python",
   "name": "python",
   "nbconvert_exporter": "python",
   "pygments_lexer": "ipython3",
   "version": "3.9.12"
  },
  "orig_nbformat": 4,
  "vscode": {
   "interpreter": {
    "hash": "b302cdd1e032ee910f5c889c3360c28564c92ad4f326fc3102e39fbe47faee66"
   }
  }
 },
 "nbformat": 4,
 "nbformat_minor": 2
}
